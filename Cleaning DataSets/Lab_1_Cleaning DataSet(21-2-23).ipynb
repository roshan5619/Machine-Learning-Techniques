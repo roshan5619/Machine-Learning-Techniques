{
 "cells": [
  {
   "cell_type": "code",
   "execution_count": 3,
   "id": "b9ed38ea",
   "metadata": {},
   "outputs": [
    {
     "data": {
      "text/html": [
       "<div>\n",
       "<style scoped>\n",
       "    .dataframe tbody tr th:only-of-type {\n",
       "        vertical-align: middle;\n",
       "    }\n",
       "\n",
       "    .dataframe tbody tr th {\n",
       "        vertical-align: top;\n",
       "    }\n",
       "\n",
       "    .dataframe thead th {\n",
       "        text-align: right;\n",
       "    }\n",
       "</style>\n",
       "<table border=\"1\" class=\"dataframe\">\n",
       "  <thead>\n",
       "    <tr style=\"text-align: right;\">\n",
       "      <th></th>\n",
       "      <th>H1</th>\n",
       "      <th>H2</th>\n",
       "      <th>H3</th>\n",
       "    </tr>\n",
       "  </thead>\n",
       "  <tbody>\n",
       "    <tr>\n",
       "      <th>0</th>\n",
       "      <td>26.0</td>\n",
       "      <td>27.0</td>\n",
       "      <td>27.0</td>\n",
       "    </tr>\n",
       "    <tr>\n",
       "      <th>1</th>\n",
       "      <td>46.0</td>\n",
       "      <td>17.0</td>\n",
       "      <td>40.0</td>\n",
       "    </tr>\n",
       "    <tr>\n",
       "      <th>2</th>\n",
       "      <td>NaN</td>\n",
       "      <td>28.0</td>\n",
       "      <td>13.0</td>\n",
       "    </tr>\n",
       "    <tr>\n",
       "      <th>3</th>\n",
       "      <td>57.0</td>\n",
       "      <td>NaN</td>\n",
       "      <td>43.0</td>\n",
       "    </tr>\n",
       "    <tr>\n",
       "      <th>4</th>\n",
       "      <td>41.0</td>\n",
       "      <td>29.0</td>\n",
       "      <td>NaN</td>\n",
       "    </tr>\n",
       "    <tr>\n",
       "      <th>5</th>\n",
       "      <td>26.0</td>\n",
       "      <td>9.0</td>\n",
       "      <td>29.0</td>\n",
       "    </tr>\n",
       "    <tr>\n",
       "      <th>6</th>\n",
       "      <td>46.0</td>\n",
       "      <td>NaN</td>\n",
       "      <td>50.0</td>\n",
       "    </tr>\n",
       "    <tr>\n",
       "      <th>7</th>\n",
       "      <td>55.0</td>\n",
       "      <td>13.0</td>\n",
       "      <td>13.0</td>\n",
       "    </tr>\n",
       "    <tr>\n",
       "      <th>8</th>\n",
       "      <td>17.0</td>\n",
       "      <td>37.0</td>\n",
       "      <td>8.0</td>\n",
       "    </tr>\n",
       "    <tr>\n",
       "      <th>9</th>\n",
       "      <td>57.0</td>\n",
       "      <td>28.0</td>\n",
       "      <td>NaN</td>\n",
       "    </tr>\n",
       "    <tr>\n",
       "      <th>10</th>\n",
       "      <td>13.0</td>\n",
       "      <td>9.0</td>\n",
       "      <td>8.0</td>\n",
       "    </tr>\n",
       "    <tr>\n",
       "      <th>11</th>\n",
       "      <td>NaN</td>\n",
       "      <td>44.0</td>\n",
       "      <td>53.0</td>\n",
       "    </tr>\n",
       "    <tr>\n",
       "      <th>12</th>\n",
       "      <td>58.0</td>\n",
       "      <td>6.0</td>\n",
       "      <td>53.0</td>\n",
       "    </tr>\n",
       "    <tr>\n",
       "      <th>13</th>\n",
       "      <td>46.0</td>\n",
       "      <td>44.0</td>\n",
       "      <td>5.0</td>\n",
       "    </tr>\n",
       "  </tbody>\n",
       "</table>\n",
       "</div>"
      ],
      "text/plain": [
       "      H1    H2    H3\n",
       "0   26.0  27.0  27.0\n",
       "1   46.0  17.0  40.0\n",
       "2    NaN  28.0  13.0\n",
       "3   57.0   NaN  43.0\n",
       "4   41.0  29.0   NaN\n",
       "5   26.0   9.0  29.0\n",
       "6   46.0   NaN  50.0\n",
       "7   55.0  13.0  13.0\n",
       "8   17.0  37.0   8.0\n",
       "9   57.0  28.0   NaN\n",
       "10  13.0   9.0   8.0\n",
       "11   NaN  44.0  53.0\n",
       "12  58.0   6.0  53.0\n",
       "13  46.0  44.0   5.0"
      ]
     },
     "execution_count": 3,
     "metadata": {},
     "output_type": "execute_result"
    }
   ],
   "source": [
    "import pandas as pd\n",
    "data=pd.read_csv(\"C:/Users/rosha/Documents/B.Tech/Semester(6)/ML_Techniques_CSE-3008/LAB/Lab-1/20201cai0002.csv\")\n",
    "data.head(16)\n"
   ]
  },
  {
   "cell_type": "code",
   "execution_count": 4,
   "id": "af58e21b",
   "metadata": {},
   "outputs": [
    {
     "name": "stdout",
     "output_type": "stream",
     "text": [
      "H1    2\n",
      "H2    2\n",
      "H3    2\n",
      "dtype: int64\n"
     ]
    }
   ],
   "source": [
    "print(data.isnull().sum())\n",
    "#data_dropped=data.dropna()"
   ]
  },
  {
   "cell_type": "code",
   "execution_count": 5,
   "id": "f4c47363",
   "metadata": {},
   "outputs": [
    {
     "data": {
      "text/plain": [
       "array([[26.        , 27.        , 27.        ],\n",
       "       [46.        , 17.        , 40.        ],\n",
       "       [40.66666667, 28.        , 13.        ],\n",
       "       [57.        , 24.25      , 43.        ],\n",
       "       [41.        , 29.        , 28.5       ],\n",
       "       [26.        ,  9.        , 29.        ],\n",
       "       [46.        , 24.25      , 50.        ],\n",
       "       [55.        , 13.        , 13.        ],\n",
       "       [17.        , 37.        ,  8.        ],\n",
       "       [57.        , 28.        , 28.5       ],\n",
       "       [13.        ,  9.        ,  8.        ],\n",
       "       [40.66666667, 44.        , 53.        ],\n",
       "       [58.        ,  6.        , 53.        ],\n",
       "       [46.        , 44.        ,  5.        ]])"
      ]
     },
     "execution_count": 5,
     "metadata": {},
     "output_type": "execute_result"
    }
   ],
   "source": [
    "from sklearn.impute import SimpleImputer\n",
    "imp_mean = SimpleImputer(strategy = 'mean')\n",
    "imp_mean.fit_transform(data)"
   ]
  },
  {
   "cell_type": "code",
   "execution_count": 6,
   "id": "4e2bcf18",
   "metadata": {},
   "outputs": [
    {
     "data": {
      "text/plain": [
       "array([[26. , 27. , 27. ],\n",
       "       [46. , 17. , 40. ],\n",
       "       [46. , 28. , 13. ],\n",
       "       [57. , 27.5, 43. ],\n",
       "       [41. , 29. , 28. ],\n",
       "       [26. ,  9. , 29. ],\n",
       "       [46. , 27.5, 50. ],\n",
       "       [55. , 13. , 13. ],\n",
       "       [17. , 37. ,  8. ],\n",
       "       [57. , 28. , 28. ],\n",
       "       [13. ,  9. ,  8. ],\n",
       "       [46. , 44. , 53. ],\n",
       "       [58. ,  6. , 53. ],\n",
       "       [46. , 44. ,  5. ]])"
      ]
     },
     "execution_count": 6,
     "metadata": {},
     "output_type": "execute_result"
    }
   ],
   "source": [
    "from sklearn.impute import SimpleImputer\n",
    "imp_mean = SimpleImputer(strategy = 'median')\n",
    "imp_mean.fit_transform(data)"
   ]
  },
  {
   "cell_type": "code",
   "execution_count": 7,
   "id": "23b747c4",
   "metadata": {},
   "outputs": [
    {
     "data": {
      "text/plain": [
       "array([[26., 27., 27.],\n",
       "       [46., 17., 40.],\n",
       "       [46., 28., 13.],\n",
       "       [57.,  9., 43.],\n",
       "       [41., 29.,  8.],\n",
       "       [26.,  9., 29.],\n",
       "       [46.,  9., 50.],\n",
       "       [55., 13., 13.],\n",
       "       [17., 37.,  8.],\n",
       "       [57., 28.,  8.],\n",
       "       [13.,  9.,  8.],\n",
       "       [46., 44., 53.],\n",
       "       [58.,  6., 53.],\n",
       "       [46., 44.,  5.]])"
      ]
     },
     "execution_count": 7,
     "metadata": {},
     "output_type": "execute_result"
    }
   ],
   "source": [
    "from sklearn.impute import SimpleImputer\n",
    "imp_mean = SimpleImputer(strategy = 'most_frequent')\n",
    "imp_mean.fit_transform(data)"
   ]
  },
  {
   "cell_type": "code",
   "execution_count": 9,
   "id": "817c8b39",
   "metadata": {},
   "outputs": [
    {
     "data": {
      "text/plain": [
       "array([[26., 27., 27.],\n",
       "       [46., 17., 40.],\n",
       "       [34., 28., 13.],\n",
       "       [57., 34., 43.],\n",
       "       [41., 29., 34.],\n",
       "       [26.,  9., 29.],\n",
       "       [46., 34., 50.],\n",
       "       [55., 13., 13.],\n",
       "       [17., 37.,  8.],\n",
       "       [57., 28., 34.],\n",
       "       [13.,  9.,  8.],\n",
       "       [34., 44., 53.],\n",
       "       [58.,  6., 53.],\n",
       "       [46., 44.,  5.]])"
      ]
     },
     "execution_count": 9,
     "metadata": {},
     "output_type": "execute_result"
    }
   ],
   "source": [
    "from sklearn.impute import SimpleImputer\n",
    "imp_mean = SimpleImputer(strategy = 'constant',fill_value=34)\n",
    "imp_mean.fit_transform(data)"
   ]
  },
  {
   "cell_type": "code",
   "execution_count": null,
   "id": "3053ca1d",
   "metadata": {},
   "outputs": [],
   "source": []
  }
 ],
 "metadata": {
  "kernelspec": {
   "display_name": "Python 3 (ipykernel)",
   "language": "python",
   "name": "python3"
  },
  "language_info": {
   "codemirror_mode": {
    "name": "ipython",
    "version": 3
   },
   "file_extension": ".py",
   "mimetype": "text/x-python",
   "name": "python",
   "nbconvert_exporter": "python",
   "pygments_lexer": "ipython3",
   "version": "3.9.12"
  }
 },
 "nbformat": 4,
 "nbformat_minor": 5
}
